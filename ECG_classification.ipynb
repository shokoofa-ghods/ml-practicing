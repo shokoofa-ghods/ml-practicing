{
 "cells": [
  {
   "cell_type": "code",
   "execution_count": 12,
   "id": "d1818aa9",
   "metadata": {
    "collapsed": true
   },
   "outputs": [
    {
     "name": "stdout",
     "output_type": "stream",
     "text": [
      "Collecting matplotlib\n",
      "  Downloading matplotlib-3.5.1-cp39-cp39-win_amd64.whl (7.2 MB)\n",
      "Requirement already satisfied: numpy in c:\\users\\asus\\anaconda3\\envs\\tensorflow-sessions\\lib\\site-packages (1.22.3)\n",
      "Collecting pandas\n",
      "  Downloading pandas-1.4.2-cp39-cp39-win_amd64.whl (10.5 MB)\n",
      "Requirement already satisfied: pyparsing>=2.2.1 in c:\\users\\asus\\anaconda3\\envs\\tensorflow-sessions\\lib\\site-packages (from matplotlib) (3.0.4)\n",
      "Collecting cycler>=0.10\n",
      "  Downloading cycler-0.11.0-py3-none-any.whl (6.4 kB)\n",
      "Requirement already satisfied: packaging>=20.0 in c:\\users\\asus\\anaconda3\\envs\\tensorflow-sessions\\lib\\site-packages (from matplotlib) (21.3)\n",
      "Requirement already satisfied: python-dateutil>=2.7 in c:\\users\\asus\\anaconda3\\envs\\tensorflow-sessions\\lib\\site-packages (from matplotlib) (2.8.2)\n",
      "Collecting fonttools>=4.22.0\n",
      "  Downloading fonttools-4.32.0-py3-none-any.whl (900 kB)\n",
      "Collecting kiwisolver>=1.0.1\n",
      "  Downloading kiwisolver-1.4.2-cp39-cp39-win_amd64.whl (55 kB)\n",
      "Collecting pillow>=6.2.0\n",
      "  Downloading Pillow-9.1.0-cp39-cp39-win_amd64.whl (3.3 MB)\n",
      "Collecting pytz>=2020.1\n",
      "  Downloading pytz-2022.1-py2.py3-none-any.whl (503 kB)\n",
      "Requirement already satisfied: six>=1.5 in c:\\users\\asus\\anaconda3\\envs\\tensorflow-sessions\\lib\\site-packages (from python-dateutil>=2.7->matplotlib) (1.16.0)\n",
      "Installing collected packages: pytz, pillow, kiwisolver, fonttools, cycler, pandas, matplotlib\n",
      "Successfully installed cycler-0.11.0 fonttools-4.32.0 kiwisolver-1.4.2 matplotlib-3.5.1 pandas-1.4.2 pillow-9.1.0 pytz-2022.1\n"
     ]
    }
   ],
   "source": [
    "!pip install matplotlib numpy pandas"
   ]
  },
  {
   "cell_type": "code",
   "execution_count": 79,
   "id": "b41dc827",
   "metadata": {},
   "outputs": [],
   "source": [
    "import tensorflow as tf\n",
    "from tensorflow.keras import datasets,layers,models\n",
    "import matplotlib.pyplot as plt\n",
    "import pandas as pd\n",
    "import numpy as np\n",
    "from keras.layers import Conv1D, Dropout, Flatten, Dense"
   ]
  },
  {
   "cell_type": "code",
   "execution_count": 22,
   "id": "29bed12a",
   "metadata": {},
   "outputs": [],
   "source": [
    "df_tr = pd.read_csv(\"./bundle_archive/mitbih_train.csv\")\n",
    "df_ts = pd.read_csv(\"./bundle_archive/mitbih_test.csv\")"
   ]
  },
  {
   "cell_type": "code",
   "execution_count": 46,
   "id": "bf9663a9",
   "metadata": {},
   "outputs": [],
   "source": [
    "y_tr = df_tr.iloc[:,-1]\n",
    "x_tr = df_tr.iloc[:,:-1]\n",
    "\n",
    "y_ts = df_ts.iloc[:,-1]\n",
    "x_ts = df_ts.iloc[:,:-1]"
   ]
  },
  {
   "cell_type": "code",
   "execution_count": 120,
   "id": "6ccfd796",
   "metadata": {},
   "outputs": [],
   "source": [
    "y_ts = y_ts.astype(np.int64)\n",
    "y_tr = y_tr.astype(np.float32)\n",
    "x_ts = x_ts.astype(np.int64)\n",
    "y_ts = y_ts.astype(np.float32)"
   ]
  },
  {
   "cell_type": "code",
   "execution_count": 68,
   "id": "16b05579",
   "metadata": {},
   "outputs": [
    {
     "data": {
      "text/plain": [
       "(87553, 187)"
      ]
     },
     "execution_count": 68,
     "metadata": {},
     "output_type": "execute_result"
    }
   ],
   "source": [
    "x_tr.shape"
   ]
  },
  {
   "cell_type": "code",
   "execution_count": 67,
   "id": "43f6d6a9",
   "metadata": {},
   "outputs": [
    {
     "data": {
      "image/png": "[encoded data removed]",
      "text/plain": [
       "<Figure size 432x288 with 1 Axes>"
      ]
     },
     "metadata": {
      "needs_background": "light"
     },
     "output_type": "display_data"
    }
   ],
   "source": [
    "t = np.linspace(0,(187/125)*1000,187)\n",
    "plt.plot(t,x_tr[y_tr==1].iloc[0], label= f\"label:{ y_tr[y_tr==0].iloc[0]}\")\n",
    "plt.plot(t,x_tr[y_tr==4].iloc[0], label= f\"label:{ y_tr[y_tr==4].iloc[0]}\")\n",
    "plt.legend()\n",
    "plt.xlabel(\"time \")\n",
    "plt.show()"
   ]
  },
  {
   "cell_type": "code",
   "execution_count": 119,
   "id": "de8c504e",
   "metadata": {},
   "outputs": [],
   "source": [
    "x_tr_cnn = np.reshape(np.array(x_tr), (x_tr.shape[0], x_tr.shape[1], 1))\n",
    "x_ts_cnn = np.reshape(np.array(x_ts), (x_ts.shape[0], x_ts.shape[1], 1))"
   ]
  },
  {
   "cell_type": "code",
   "execution_count": 129,
   "id": "f75b99ec",
   "metadata": {},
   "outputs": [],
   "source": [
    "model = models.Sequential()\n",
    "model.add(layers.Conv1D(filters= 64, kernel_size= 6, activation='relu' ))\n",
    "# model.add(MaxPooling1D(pool_size=2))\n",
    "model.add(Flatten())\n",
    "model.add(Dense(64, activation='relu'))\n",
    "model.add(Dense(32, activation='relu'))\n",
    "model.add(Dense(5, activation='softmax'))\n",
    "\n",
    "model.compile( loss = 'sparse_categorical_crossentropy', optimizer= 'adam', metrics=['accuracy'])"
   ]
  },
  {
   "cell_type": "code",
   "execution_count": 130,
   "id": "018f3eb6",
   "metadata": {
    "scrolled": true
   },
   "outputs": [
    {
     "name": "stdout",
     "output_type": "stream",
     "text": [
      "WARNING:tensorflow:Keras is training/fitting/evaluating on array-like data. Keras may not be optimized for this format, so if your input data format is supported by TensorFlow I/O (https://github.com/tensorflow/io) we recommend using that to load a Dataset instead.\n",
      "Epoch 1/2\n",
      "2737/2737 [==============================] - 59s 21ms/step - loss: 0.1947 - accuracy: 0.9457\n",
      "Epoch 2/2\n",
      "2737/2737 [==============================] - 58s 21ms/step - loss: 0.1094 - accuracy: 0.9698\n"
     ]
    },
    {
     "data": {
      "text/plain": [
       "<keras.callbacks.History at 0x24051f71cd0>"
      ]
     },
     "execution_count": 130,
     "metadata": {},
     "output_type": "execute_result"
    }
   ],
   "source": [
    "model.fit(x_tr_cnn, y_tr, batch_size= 32, epochs= 2, verbose= 1)"
   ]
  },
  {
   "cell_type": "code",
   "execution_count": 131,
   "id": "2e967695",
   "metadata": {},
   "outputs": [
    {
     "name": "stdout",
     "output_type": "stream",
     "text": [
      "685/685 [==============================] - 3s 4ms/step\n",
      "2737/2737 [==============================] - 13s 5ms/step\n"
     ]
    }
   ],
   "source": [
    "y_ts_pred = model.predict(x_ts_cnn, verbose=1)\n",
    "y_tr_pred = model.predict(x_tr_cnn, verbose=1)"
   ]
  },
  {
   "cell_type": "code",
   "execution_count": 275,
   "id": "d4f87f44",
   "metadata": {},
   "outputs": [
    {
     "name": "stdout",
     "output_type": "stream",
     "text": [
      "train :              precision    recall  f1-score   support\n",
      "\n",
      "         0.0       0.98      1.00      0.99     72470\n",
      "         1.0       0.93      0.65      0.77      2223\n",
      "         2.0       0.94      0.92      0.93      5788\n",
      "         3.0       0.88      0.50      0.63       641\n",
      "         4.0       0.99      0.96      0.97      6431\n",
      "\n",
      "    accuracy                           0.98     87553\n",
      "   macro avg       0.94      0.80      0.86     87553\n",
      "weighted avg       0.97      0.98      0.97     87553\n",
      "\n",
      "test :              precision    recall  f1-score   support\n",
      "\n",
      "         0.0       0.86      0.92      0.89     18117\n",
      "         1.0       0.12      0.04      0.06       556\n",
      "         2.0       0.27      0.00      0.01      1448\n",
      "         3.0       0.00      0.00      0.00       162\n",
      "         4.0       0.31      0.43      0.36      1608\n",
      "\n",
      "    accuracy                           0.80     21891\n",
      "   macro avg       0.31      0.28      0.26     21891\n",
      "weighted avg       0.76      0.80      0.77     21891\n",
      "\n"
     ]
    },
    {
     "name": "stderr",
     "output_type": "stream",
     "text": [
      "C:\\Users\\Asus\\anaconda3\\envs\\tensorflow-sessions\\lib\\site-packages\\sklearn\\metrics\\_classification.py:1318: UndefinedMetricWarning: Precision and F-score are ill-defined and being set to 0.0 in labels with no predicted samples. Use `zero_division` parameter to control this behavior.\n",
      "  _warn_prf(average, modifier, msg_start, len(result))\n",
      "C:\\Users\\Asus\\anaconda3\\envs\\tensorflow-sessions\\lib\\site-packages\\sklearn\\metrics\\_classification.py:1318: UndefinedMetricWarning: Precision and F-score are ill-defined and being set to 0.0 in labels with no predicted samples. Use `zero_division` parameter to control this behavior.\n",
      "  _warn_prf(average, modifier, msg_start, len(result))\n",
      "C:\\Users\\Asus\\anaconda3\\envs\\tensorflow-sessions\\lib\\site-packages\\sklearn\\metrics\\_classification.py:1318: UndefinedMetricWarning: Precision and F-score are ill-defined and being set to 0.0 in labels with no predicted samples. Use `zero_division` parameter to control this behavior.\n",
      "  _warn_prf(average, modifier, msg_start, len(result))\n"
     ]
    }
   ],
   "source": [
    "from sklearn.metrics import classification_report\n",
    "\n",
    "df = pd.DataFrame(y_tr_pred)\n",
    "clf_rep = classification_report(y_tr,np.array(df.idxmax(axis=1)))\n",
    "print(\"train :\" + clf_rep)\n",
    "\n",
    "df = pd.DataFrame(y_ts_pred)\n",
    "clf_rep = classification_report(y_ts,np.array(df.idxmax(axis=1)))\n",
    "print(\"test :\" + clf_rep)"
   ]
  },
  {
   "cell_type": "code",
   "execution_count": null,
   "id": "523cc8fc",
   "metadata": {},
   "outputs": [],
   "source": []
  }
 ],
 "metadata": {
  "kernelspec": {
   "display_name": "Python 3 (ipykernel)",
   "language": "python",
   "name": "python3"
  },
  "language_info": {
   "codemirror_mode": {
    "name": "ipython",
    "version": 3
   },
   "file_extension": ".py",
   "mimetype": "text/x-python",
   "name": "python",
   "nbconvert_exporter": "python",
   "pygments_lexer": "ipython3",
   "version": "3.9.12"
  }
 },
 "nbformat": 4,
 "nbformat_minor": 5
}
